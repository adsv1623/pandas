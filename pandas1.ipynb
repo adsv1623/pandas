{
 "cells": [
  {
   "cell_type": "code",
   "execution_count": 35,
   "metadata": {},
   "outputs": [],
   "source": [
    "import numpy as np\n",
    "import pandas as pd"
   ]
  },
  {
   "cell_type": "code",
   "execution_count": 36,
   "metadata": {},
   "outputs": [],
   "source": [
    "data=pd.read_csv('matches.csv')"
   ]
  },
  {
   "cell_type": "code",
   "execution_count": 37,
   "metadata": {},
   "outputs": [
    {
     "data": {
      "text/plain": [
       "KA Pollard    6\n",
       "RG Sharma     6\n",
       "YK Pathan     3\n",
       "Name: player_of_match, dtype: int64"
      ]
     },
     "execution_count": 37,
     "metadata": {},
     "output_type": "execute_result"
    }
   ],
   "source": [
    "#Qtn1\n",
    "#maskBooleanSeries\n",
    "mask = data['city']=='Mumbai'\n",
    "#masking_Over_Data\n",
    "data[mask]['player_of_match'].value_counts().head(3)   # .value_counts counts total no of values for each player in sorted Order(Desecending)  & .head gives Top 3\n"
   ]
  },
  {
   "cell_type": "code",
   "execution_count": 49,
   "metadata": {},
   "outputs": [],
   "source": [
    "#qtn2\n",
    "def top_seasonP(year):\n",
    "        if not any(data['season']==year):      #for year data not available\n",
    "            return 'Not data Available For This Year'\n",
    "                #maskBooleanSeries\n",
    "        mask1= data['season']== year\n",
    "        return data[mask1]['winner'].value_counts().head(3)      #same technique of above\n",
    "    "
   ]
  },
  {
   "cell_type": "code",
   "execution_count": 51,
   "metadata": {},
   "outputs": [
    {
     "name": "stdout",
     "output_type": "stream",
     "text": [
      "2017\n"
     ]
    },
    {
     "data": {
      "text/plain": [
       "Mumbai Indians            12\n",
       "Rising Pune Supergiant    10\n",
       "Kolkata Knight Riders      9\n",
       "Name: winner, dtype: int64"
      ]
     },
     "execution_count": 51,
     "metadata": {},
     "output_type": "execute_result"
    }
   ],
   "source": [
    "year=int(input())   #input Year\n",
    "top_seasonP(year)    #function"
   ]
  },
  {
   "cell_type": "code",
   "execution_count": null,
   "metadata": {},
   "outputs": [],
   "source": []
  }
 ],
 "metadata": {
  "kernelspec": {
   "display_name": "Python 3",
   "language": "python",
   "name": "python3"
  },
  "language_info": {
   "codemirror_mode": {
    "name": "ipython",
    "version": 3
   },
   "file_extension": ".py",
   "mimetype": "text/x-python",
   "name": "python",
   "nbconvert_exporter": "python",
   "pygments_lexer": "ipython3",
   "version": "3.7.3"
  }
 },
 "nbformat": 4,
 "nbformat_minor": 2
}
