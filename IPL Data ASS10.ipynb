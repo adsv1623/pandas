{
 "cells": [
  {
   "cell_type": "code",
   "execution_count": 100,
   "metadata": {},
   "outputs": [],
   "source": [
    "import numpy as np\n",
    "import pandas as pd"
   ]
  },
  {
   "cell_type": "code",
   "execution_count": 101,
   "metadata": {},
   "outputs": [],
   "source": [
    "match = pd.read_csv('deliveries.csv')"
   ]
  },
  {
   "cell_type": "code",
   "execution_count": 102,
   "metadata": {},
   "outputs": [
    {
     "data": {
      "text/plain": [
       "MS Dhoni          114\n",
       "KA Pollard         92\n",
       "AB de Villiers     86\n",
       "RG Sharma          81\n",
       "Yuvraj Singh       66\n",
       "Name: batsman, dtype: int64"
      ]
     },
     "execution_count": 102,
     "metadata": {},
     "output_type": "execute_result"
    }
   ],
   "source": [
    "#qtn1 :\n",
    "over_5=match[match['over']>15]         #masking for last 5th over\n",
    "over_5[over_5['batsman_runs']==6]['batsman'].value_counts().head(5)  # In last 5 th over masking for 6 runs then Indexing having batsman with occureence\n"
   ]
  },
  {
   "cell_type": "code",
   "execution_count": 103,
   "metadata": {},
   "outputs": [
    {
     "name": "stdout",
     "output_type": "stream",
     "text": [
      "A Mishra\n",
      "UT Yadav\n",
      "DJ Bravo\n",
      "R Ashwin\n",
      "RA Jadeja\n"
     ]
    }
   ],
   "source": [
    "#qtn2\n",
    "vkData=match[match['batsman']=='V Kohli']   #masking for kohli\n",
    "Index=vkData.groupby('bowler')['batsman_runs'].sum().sort_values(ascending=False).head().index    #grouping in Bowler with BatsmanRun Sum\n",
    "for i in Index: print(i)     #printing Index Each Item in new line"
   ]
  },
  {
   "cell_type": "code",
   "execution_count": null,
   "metadata": {},
   "outputs": [],
   "source": []
  }
 ],
 "metadata": {
  "kernelspec": {
   "display_name": "Python 3",
   "language": "python",
   "name": "python3"
  },
  "language_info": {
   "codemirror_mode": {
    "name": "ipython",
    "version": 3
   },
   "file_extension": ".py",
   "mimetype": "text/x-python",
   "name": "python",
   "nbconvert_exporter": "python",
   "pygments_lexer": "ipython3",
   "version": "3.7.3"
  }
 },
 "nbformat": 4,
 "nbformat_minor": 2
}
